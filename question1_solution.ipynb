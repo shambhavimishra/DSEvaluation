{
  "nbformat": 4,
  "nbformat_minor": 0,
  "metadata": {
    "colab": {
      "provenance": [],
      "collapsed_sections": []
    },
    "kernelspec": {
      "name": "python3",
      "display_name": "Python 3"
    },
    "language_info": {
      "name": "python"
    }
  },
  "cells": [
    {
      "cell_type": "markdown",
      "source": [
        "# Question 1\n",
        " - Author: Shambhavi Mishra"
      ],
      "metadata": {
        "id": "TmJd2mqu8n1D"
      }
    },
    {
      "cell_type": "markdown",
      "source": [
        "### Load json data from Google drive"
      ],
      "metadata": {
        "id": "GojNcIHTnB9h"
      }
    },
    {
      "cell_type": "code",
      "execution_count": 1,
      "metadata": {
        "id": "MUd5rhDLm_Hv"
      },
      "outputs": [],
      "source": [
        "# import required modules\n",
        "import re\n",
        "import json"
      ]
    },
    {
      "cell_type": "code",
      "source": [
        "# mount Gooogle drive\n",
        "from google.colab import drive\n",
        "drive.mount('/content/drive')"
      ],
      "metadata": {
        "colab": {
          "base_uri": "https://localhost:8080/"
        },
        "id": "DHeKbwLnybt7",
        "outputId": "9c42e29d-8b66-47c0-fce1-24de2e9b60e7"
      },
      "execution_count": 2,
      "outputs": [
        {
          "output_type": "stream",
          "name": "stdout",
          "text": [
            "Mounted at /content/drive\n"
          ]
        }
      ]
    },
    {
      "cell_type": "markdown",
      "source": [
        "## Solution 1 (Without regular expression)"
      ],
      "metadata": {
        "id": "_uhkQfGVyyRW"
      }
    },
    {
      "cell_type": "code",
      "source": [
        "# A function to extract numbers without using reg expression\n",
        "import json\n",
        "def extractNumbesWithoutRegEx(inputfile):\n",
        "  '''\n",
        "  Args:\n",
        "  inputfile: String, A path to json file containing the text\n",
        "  '''\n",
        "  filetext = open(inputfile, 'r')\n",
        "  data = json.load(filetext) # JSON object as a dictionary\n",
        "  values = [] # list to store extracted numbers\n",
        "  for order in data['orders']:\n",
        "    values.append(order.get('id'))\n",
        "\n",
        "  for error in data['errors']:\n",
        "    values.append(error.get('code'))\n",
        "  \n",
        "  filetext.close()\n",
        "  return values"
      ],
      "metadata": {
        "id": "ZwNY38Lmnncl"
      },
      "execution_count": 3,
      "outputs": []
    },
    {
      "cell_type": "markdown",
      "source": [
        "## Solution 2 (With regular expression)"
      ],
      "metadata": {
        "id": "onyYAB0v5AH1"
      }
    },
    {
      "cell_type": "code",
      "source": [
        "# A function to extract numbers using reg expression\n",
        "\n",
        "def extractNumbers(textdata):\n",
        "  '''\n",
        "  Args:\n",
        "  textdata: String, input text to search from\n",
        "  '''\n",
        "  regex = '(?<=:)\\d+' # expression to match\n",
        "  allnumbers_string = re.findall(regex, textdata)\n",
        "  numbers = [int(i) for i in allnumbers_string] # converting string to int\n",
        "  numbers\n",
        "  return numbers"
      ],
      "metadata": {
        "id": "_R6VmwF7sy1C"
      },
      "execution_count": 8,
      "outputs": []
    },
    {
      "cell_type": "code",
      "source": [
        "# define main function\n",
        "def main():\n",
        "  # extract numbers without reg expression\n",
        "  jsonfile = '/content/drive/MyDrive/nextgrowth/question_1data.json'\n",
        "  numbers_wo = extractNumbesWithoutRegEx(jsonfile)\n",
        "  print('Solution 1: without using reg expression')\n",
        "  print('Extracted numbers from the json file are: \\n')\n",
        "  print(numbers_wo)\n",
        "\n",
        "  # extract numbers with reg expression\n",
        "  print('\\n------------------\\n')\n",
        "  print('Solution 2: using reg expression')\n",
        "  inputtext = '{\"orders\":[{\"id\":1},{\"id\":2},{\"id\":3},{\"id\":4},{\"id\":5},{\"id\":6},{\"id\":7},{\"id\":8},{\"id\":9},{\"id\":10},{\"id\":11},{\"id\":648},{\"id\":649},{\"id\":650},{\"id\":651},{\"id\":652},{\"id\":653}] ,\"errors\": [{\"code\":3,\"message\":\"[PHP Warning #2] count(): Parameter must be an array or an object that implements Countable (153)\"}] }'\n",
        "  numbers_reg = extractNumbers(inputtext)\n",
        "  print('Extracted numbers from the input text are: \\n')\n",
        "  print(numbers_reg)"
      ],
      "metadata": {
        "id": "p0V1NHFbsipt"
      },
      "execution_count": 9,
      "outputs": []
    },
    {
      "cell_type": "code",
      "source": [
        "# call main function\n",
        "if __name__=='__main__':\n",
        "  main()"
      ],
      "metadata": {
        "colab": {
          "base_uri": "https://localhost:8080/"
        },
        "id": "Jg59jn8h7UKK",
        "outputId": "7b7ed7f9-616b-4bf2-966a-387835c75471"
      },
      "execution_count": 10,
      "outputs": [
        {
          "output_type": "stream",
          "name": "stdout",
          "text": [
            "Solution 1: without using reg expression\n",
            "Extracted numbers from the json file are: \n",
            "\n",
            "[1, 2, 3, 4, 5, 6, 7, 8, 9, 10, 11, 648, 649, 650, 651, 652, 653, 3]\n",
            "\n",
            "------------------\n",
            "\n",
            "Solution 2: using reg expression\n",
            "Extracted numbers from the input text are: \n",
            "\n",
            "[1, 2, 3, 4, 5, 6, 7, 8, 9, 10, 11, 648, 649, 650, 651, 652, 653, 3]\n"
          ]
        }
      ]
    },
    {
      "cell_type": "code",
      "source": [],
      "metadata": {
        "id": "5A-r4ThixOt_"
      },
      "execution_count": null,
      "outputs": []
    }
  ]
}